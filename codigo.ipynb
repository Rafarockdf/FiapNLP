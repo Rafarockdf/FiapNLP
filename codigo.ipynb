{
 "cells": [
  {
   "cell_type": "code",
   "execution_count": 3,
   "metadata": {},
   "outputs": [],
   "source": [
    "import nltk\n",
    "from nltk.tokenize import sent_tokenize\n",
    "import pandas as pd"
   ]
  },
  {
   "cell_type": "code",
   "execution_count": 10,
   "metadata": {},
   "outputs": [],
   "source": [
    "import openai"
   ]
  },
  {
   "cell_type": "code",
   "execution_count": null,
   "metadata": {},
   "outputs": [],
   "source": [
    "from openai import OpenAI\n",
    "\n",
    "client = OpenAI(\n",
    "  organization='sk-bIvete6V2_Xy665jsL_b7wEKsgiBx_jUU4Rr5kKIM8T3BlbkFJEj575jDb8UVBWysQkaWphgTAImvwKxS1ouYR0aW1MA',\n",
    "  project='$PROJECT_ID',\n",
    ")"
   ]
  },
  {
   "cell_type": "code",
   "execution_count": 22,
   "metadata": {},
   "outputs": [],
   "source": [
    "perguntar = '''Preciso que você extraia as informações dos textos de acordo com as tabela abaixo:\n",
    "\n",
    "texto1:  É que, Natália, boa tarde. Boa tarde, Natália. É Leda Totos, o Sr. William se encontra? Sim, só um minutinho. Obrigada. Oi, boa tarde, Leda Totos, eu falo com o William? Isso. Tudo bem? Tudo, tudo bem. Que ótimo. O Sr. William, sou do Departamento Voz do Cliente da Totos, estou entrando em contato para fazer o NPS, que é uma avaliação geral anual. O Sr. tem dois minutos? Pode ser. Pode ser? Tá bem. Só vou confirmar algumas informações. Empresa Colbec, Indústria e Comércio de Confecções, final do CNPJ 1000 contra 28, e o e-mail... Isso. Ok. Iniciando. De uma escala de 0 a 10, qual a probabilidade do Sr. recomendar a marca Totos a alguém hoje no geral? 10. Suporte técnico ou uma nota para agilidade nos processos? Também 10. 10. E o atendimento em si dos agentes? Também. É muito bom. 10. Atendimento do Executivo de Vendas Comercial? Esse eu tenho menos contato, então, não sei te dizer hoje, porque eu praticamente não uso. Mas quando eu precisei, sempre foi muito bom. Então, também pode colocar 10. Não é mais a mesma pessoa que me atende, mas o anterior era muito bom. Tá. O Sr. prefere dar nota 10 mesmo ou pular? Pode ser sim. Não pode botar porque... Tá bom. Com relação aos custos e os valores? Esse dói um pouco. Eu diria um 8. É bom, mas é pesado. Ok. Nota 8. Atendimento da Administrativa e Financeiro? Esse eu prefiro pular porque eu nunca tive contato com essa parte. Certo. Mais três perguntas. O programa que vocês estão usando atende a necessidade da empresa total, parcial ou não atende? Atende total. Total. Uma nota para as atualizações? 10 também. 10? Isso. E a última pergunta para avaliar a unidade TOTO Serra Gaúcha? Também. Também nota 10. Muito bom. Certo. Gostaria de comentar, deixar alguma sugestão, reclamação, elogio? Não. Tudo em ordem com vocês aí. Tudo certo. Então, tá bom. Então, continue assim. Obrigada, Sr. William, pela atenção. Ano que vem a gente retorna o contato de novo, tá? Tenha uma ótima tarde. Tchau. Tchau, tchau. Tchau, tchau. Tchau, tchau. Tchau, tchau. Tchau, tchau.\n",
    "\n",
    "\n",
    "Tabela:\n",
    "Nome\tNome da empresa\tUnidade da TOTVS\tRegião da TOTVS\tCNPJ\tSentimento\tData_Ligacao\tAgilidade nos processos do suporte técnico:\tAtendimento dos agentes do suporte técnico:\tProbabilidade de recomendar a TOTVS\tAtendimento do Executivo de Vendas:\tCustos e valores dos produtos contratados:\tAtendimento do financeiro:\tSatisfação com a implantação do software:\tExperiência com a atualização do software:\tAtendimento realizado pela unidade TOTVS\tRecomendação de empresa\tComentários\n",
    "Lucas Oliveira\tTechSolutions Ltda\tUnidade Pará\tNorte\t12345678901234\tneutro\t2024-01-08\t7\t6\t7\t7\t7\t6\t6\t7\t7\tInnovaTech Solutions\tAtendimento adequado, mas esperava mais agilidade.\n",
    "Juliana Costa\tInfoTech S.A.\tUnidade Ceará\tNordeste\t98765432109876\tpositivo\t2024-01-15\t8\t8\t9\t8\t8\t7\t8\t8\t9\tAlpha Systems Inc.\tRecomendo pela eficiência e qualidade.\n",
    "Rafael Santos\tDataWorks Inc.\tUnidade Brasília\tCentro-Oeste\t56789012345678\tpositivo\t2024-02-02\t9\t9\t10\t8\t9\t8\t9\t9\t9\tFutureSoft Ltda\tÓtima experiência, sistema funcionando perfeitamente.\n",
    "Isabela Lima\tTechNerd Ltda\tUnidade Ibirapuera\tSudeste\t34567890123456\tnegativo\t2024-02-18\t3\t4\t2\t5\t5\t3\t2\t3\t4\tTechFusion Corp\tSuporte demorou para resolver o problema.\n",
    "Gustavo Almeida\tSoftTech S.A.\tUnidade Curitiba\tSul\t65432109876543\tneutro\t2024-02-25\t6\t7\t6\t7\t6\t7\t6\t7\t7\tQuantum Dynamics\tBoa comunicação, mas faltou clareza.\n",
    "Amanda Ferreira\tIT Solutions Ltda\tUnidade Pará\tNorte\t23456789012345\tnegativo\t2024-03-04\t4\t3\t3\t4\t5\t4\t3\t4\t3\tSoftWave Solutions\tNão recomendo, serviço lento e pouco eficaz.\n",
    "Carlos Souza\tTechWorld Inc.\tUnidade Ceará\tNordeste\t54321098765432\tneutro\t2024-03-11\t5\t6\t5\t6\t5\t6\t5\t6\t6\tVisionary Tech\tOk, resolveram o problema, mas demoraram um pouco.\n",
    "Patrícia Barbosa\tInfoSupport S.A.\tUnidade Brasília\tCentro-Oeste\t98765432123456\tpositivo\t2024-03-17\t7\t8\t8\t7\t8\t7\t8\t7\t8\tNexus Innovations\tRecomendo pela competência e qualidade.\n",
    "José Santos\tDataTech Ltda\tUnidade Ibirapuera\tSudeste\t56789012345678\tnegativo\t2024-03-24\t3\t4\t2\t5\t4\t3\t2\t3\t4\tPioneer Softwares\tNão recomendo, serviço deixou a desejar.\n",
    "Fernanda Lima\tTechInnovation S.A.\tUnidade Curitiba\tSul\t67890123456789\tneutro\t2024-03-31\t6\t6\t6\t6\t6\t6\t6\t6\t6\tSynergy Systems\tOk, poderia ter sido mais rápido.\n",
    "Mariana Silva\tTechSolutions Ltda\tUnidade Pará\tNorte\t12345678901234\tnegativo\t2024-04-06\t4\t3\t4\t5\t5\t4\t3\t4\t3\tEpicSoft Technologies\tNão recomendo, serviço deixou a desejar.\n",
    "Gabriel Oliveira\tInfoTech S.A.\tUnidade Ceará\tNordeste\t98765432109876\tpositivo\t2024-04-12\t9\t8\t9\t8\t8\t8\t9\t8\t9\tNextGen Solutions\tRecomendo pela eficiência.\n",
    "Larissa Costa\tDataWorks Inc.\tUnidade Brasília\tCentro-Oeste\t56789012345678\tneutro\t2024-04-19\t6\t7\t6\t7\t6\t7\t6\t7\t7\tZenith Tech Group\tBom suporte, resolveram o problema.\n",
    "Rodrigo Almeida\tTechNerd Ltda\tUnidade Ibirapuera\tSudeste\t34567890123456\tpositivo\t2024-04-26\t8\t9\t8\t7\t8\t8\t9\t8\t9\tInfinity Tech\tÓtima experiência, recomendo.\n",
    "Aline Ferreira\tSoftTech S.A.\tUnidade Curitiba\tSul\t65432109876543\tnegativo\t2024-05-03\t3\t4\t2\t5\t4\t3\t2\t3\t4\tSkyline Systems\tNão recomendo, serviço deixou a desejar.\n",
    "Thiago Santos\tIT Solutions Ltda\tUnidade Pará\tNorte\t23456789012345\tnegativo\t2024-05-10\t4\t3\t3\t4\t5\t4\t3\t4\t3\tVertex Innovations\tNão recomendo, serviço não foi satisfatório.'''"
   ]
  },
  {
   "cell_type": "code",
   "execution_count": 56,
   "metadata": {},
   "outputs": [],
   "source": [
    "import openai\n",
    "\n",
    "# Configure sua chave de API\n",
    "openai.api_key = 'sk-APzoXd-HptDIXLFZNurm6mVLJHHSowzWSVhMmLx-vyT3BlbkFJH5QywtE8Tn-DNbVrBoJwlKGRwEsmRNZLWiEMsXkegA'\n",
    "\n",
    "def perguntar_chatgpt(pergunta):\n",
    "    \"\"\"\n",
    "    Função para interagir com a API do ChatGPT e obter uma resposta.\n",
    "    \n",
    "    Parameters:\n",
    "    - pergunta (str): A pergunta que você deseja enviar ao modelo.\n",
    "\n",
    "    Returns:\n",
    "    - str: A resposta gerada pelo modelo.\n",
    "    \"\"\"\n",
    "    \n",
    "    \n",
    "    try:\n",
    "        response = openai.ChatCompletion.create(\n",
    "            model=\"gpt-3.5-turbo\",\n",
    "            messages=[\n",
    "                {\"role\": \"user\", \"content\": pergunta}\n",
    "            ]\n",
    "        )\n",
    "        resposta = response.choices[0].message['content']\n",
    "        return resposta\n",
    "    \n",
    "    except Exception as e:\n",
    "        return f\"Erro: {str(e)}\""
   ]
  },
  {
   "cell_type": "code",
   "execution_count": 57,
   "metadata": {},
   "outputs": [],
   "source": [
    "resposta = perguntar_chatgpt('me fale sobre a franca')"
   ]
  },
  {
   "cell_type": "code",
   "execution_count": 58,
   "metadata": {},
   "outputs": [
    {
     "data": {
      "text/plain": [
       "'Erro: \\n\\nYou tried to access openai.ChatCompletion, but this is no longer supported in openai>=1.0.0 - see the README at https://github.com/openai/openai-python for the API.\\n\\nYou can run `openai migrate` to automatically upgrade your codebase to use the 1.0.0 interface. \\n\\nAlternatively, you can pin your installation to the old version, e.g. `pip install openai==0.28`\\n\\nA detailed migration guide is available here: https://github.com/openai/openai-python/discussions/742\\n'"
      ]
     },
     "execution_count": 58,
     "metadata": {},
     "output_type": "execute_result"
    }
   ],
   "source": [
    "resposta"
   ]
  },
  {
   "cell_type": "code",
   "execution_count": null,
   "metadata": {},
   "outputs": [],
   "source": []
  },
  {
   "cell_type": "code",
   "execution_count": 54,
   "metadata": {},
   "outputs": [
    {
     "name": "stdout",
     "output_type": "stream",
     "text": [
      "req_797244cb508997a92b82ad796e48c598\n",
      "ChatCompletion(id='chatcmpl-A4HtMjTEqU3A2QICaPq42sWlHeIj8', choices=[Choice(finish_reason='stop', index=0, logprobs=None, message=ChatCompletionMessage(content='This is a test', refusal=None, role='assistant', function_call=None, tool_calls=None))], created=1725585452, model='gpt-3.5-turbo-0125', object='chat.completion', service_tier=None, system_fingerprint=None, usage=CompletionUsage(completion_tokens=4, prompt_tokens=12, total_tokens=16))\n"
     ]
    }
   ],
   "source": [
    "from openai import OpenAI\n",
    "\n",
    "client = OpenAI(api_key='sk-APzoXd-HptDIXLFZNurm6mVLJHHSowzWSVhMmLx-vyT3BlbkFJH5QywtE8Tn-DNbVrBoJwlKGRwEsmRNZLWiEMsXkegA')\n",
    "response = client.chat.completions.with_raw_response.create(\n",
    "    messages=[{\n",
    "        \"role\": \"user\",\n",
    "        \"content\": \"Conte uma curiosidade sobre a franca\",\n",
    "    }],\n",
    "    model=\"gpt-3.5-turbo\",\n",
    ")\n",
    "print(response.headers.get('x-request-id'))\n",
    "\n",
    "# get the object that `chat.completions.create()` would have returned\n",
    "completion = response.parse()\n",
    "print(completion)"
   ]
  },
  {
   "cell_type": "code",
   "execution_count": 61,
   "metadata": {},
   "outputs": [
    {
     "name": "stdout",
     "output_type": "stream",
     "text": [
      "ChatCompletionMessage(content='Abaixo estão as informações extraídas do texto de acordo com a tabela solicitada:\\n\\n| Nome           | Nome da empresa                        | Unidade da TOTVS | Região da TOTVS | CNPJ              | Sentimento | Data_Ligacao  | Agilidade nos processos do suporte técnico: | Atendimento dos agentes do suporte técnico: | Probabilidade de recomendar a TOTVS | Atendimento do Executivo de Vendas: | Custos e valores dos produtos contratados: | Atendimento do financeiro: | Satisfação com a implantação do software: | Experiência com a atualização do software: | Atendimento realizado pela unidade TOTVS | Recomendação de empresa | Comentários                      |\\n|----------------|---------------------------------------|-------------------|------------------|--------------------|------------|----------------|--------------------------------------------|-----------------------------------------------|-------------------------------------|------------------------------------|-------------------------------------------|----------------------|--------------------------------------------|---------------------------------------------|-------------------------------------|---------------------|----------------------------------|\\n| William        | Colbec, Indústria e Comércio de Confecções | Unidade Serra Gaúcha | Sul              | *final do CNPJ 1000 contra 28* | positivo    | 2024-XX-XX     | 10                                         | 10                                            | 10                                  | 10                                 | 8                                         | Não contatado        | Atende total                             | 10                                          | 10                                  | Totos               | Nenhum comentário                |\\n\\nNotas:\\n- O **CNPJ** é mencionado apenas parcialmente como \"final do CNPJ 1000 contra 28\", portanto, não é possível completar essa informação integralmente.\\n- A **data da ligação** não foi especificada no texto, então estou usando um placeholder \"2024-XX-XX\".\\n- O **sentimento** foi considerado positivo levando em conta as notas altas e comentários positivos.', refusal=None, role='assistant', function_call=None, tool_calls=None)\n"
     ]
    }
   ],
   "source": [
    "from openai import OpenAI\n",
    "client = OpenAI(api_key='sk-APzoXd-HptDIXLFZNurm6mVLJHHSowzWSVhMmLx-vyT3BlbkFJH5QywtE8Tn-DNbVrBoJwlKGRwEsmRNZLWiEMsXkegA')\n",
    "\n",
    "completion = client.chat.completions.create(\n",
    "    model=\"gpt-4o-mini\",\n",
    "    messages=[\n",
    "        {\"role\": \"system\", \"content\": \"You are a helpful assistant.\"},\n",
    "        {\n",
    "            \"role\": \"user\",\n",
    "            \"content\": perguntar\n",
    "        }\n",
    "    ]\n",
    ")\n"
   ]
  },
  {
   "cell_type": "code",
   "execution_count": 70,
   "metadata": {},
   "outputs": [
    {
     "name": "stdout",
     "output_type": "stream",
     "text": [
      "Abaixo estão as informações extraídas do texto de acordo com a tabela solicitada:\n",
      "\n",
      "| Nome           | Nome da empresa                        | Unidade da TOTVS | Região da TOTVS | CNPJ              | Sentimento | Data_Ligacao  | Agilidade nos processos do suporte técnico: | Atendimento dos agentes do suporte técnico: | Probabilidade de recomendar a TOTVS | Atendimento do Executivo de Vendas: | Custos e valores dos produtos contratados: | Atendimento do financeiro: | Satisfação com a implantação do software: | Experiência com a atualização do software: | Atendimento realizado pela unidade TOTVS | Recomendação de empresa | Comentários                      |\n",
      "|----------------|---------------------------------------|-------------------|------------------|--------------------|------------|----------------|--------------------------------------------|-----------------------------------------------|-------------------------------------|------------------------------------|-------------------------------------------|----------------------|--------------------------------------------|---------------------------------------------|-------------------------------------|---------------------|----------------------------------|\n",
      "| William        | Colbec, Indústria e Comércio de Confecções | Unidade Serra Gaúcha | Sul              | *final do CNPJ 1000 contra 28* | positivo    | 2024-XX-XX     | 10                                         | 10                                            | 10                                  | 10                                 | 8                                         | Não contatado        | Atende total                             | 10                                          | 10                                  | Totos               | Nenhum comentário                |\n",
      "\n",
      "Notas:\n",
      "- O **CNPJ** é mencionado apenas parcialmente como \"final do CNPJ 1000 contra 28\", portanto, não é possível completar essa informação integralmente.\n",
      "- A **data da ligação** não foi especificada no texto, então estou usando um placeholder \"2024-XX-XX\".\n",
      "- O **sentimento** foi considerado positivo levando em conta as notas altas e comentários positivos.\n"
     ]
    },
    {
     "ename": "ValueError",
     "evalue": "DataFrame constructor not properly called!",
     "output_type": "error",
     "traceback": [
      "\u001b[1;31m---------------------------------------------------------------------------\u001b[0m",
      "\u001b[1;31mValueError\u001b[0m                                Traceback (most recent call last)",
      "\u001b[1;32m~\\AppData\\Local\\Temp\\ipykernel_12908\\1005487176.py\u001b[0m in \u001b[0;36m?\u001b[1;34m()\u001b[0m\n\u001b[1;32m----> 2\u001b[1;33m \u001b[0mprint\u001b[0m\u001b[1;33m(\u001b[0m\u001b[0mcompletion\u001b[0m\u001b[1;33m.\u001b[0m\u001b[0mchoices\u001b[0m\u001b[1;33m[\u001b[0m\u001b[1;36m0\u001b[0m\u001b[1;33m]\u001b[0m\u001b[1;33m.\u001b[0m\u001b[0mmessage\u001b[0m\u001b[1;33m.\u001b[0m\u001b[0mcontent\u001b[0m\u001b[1;33m)\u001b[0m\u001b[1;33m\u001b[0m\u001b[1;33m\u001b[0m\u001b[0m\n\u001b[0m\u001b[0;32m      3\u001b[0m \u001b[0mpd\u001b[0m\u001b[1;33m.\u001b[0m\u001b[0mDataFrame\u001b[0m\u001b[1;33m(\u001b[0m\u001b[0mcompletion\u001b[0m\u001b[1;33m.\u001b[0m\u001b[0mchoices\u001b[0m\u001b[1;33m[\u001b[0m\u001b[1;36m0\u001b[0m\u001b[1;33m]\u001b[0m\u001b[1;33m.\u001b[0m\u001b[0mmessage\u001b[0m\u001b[1;33m.\u001b[0m\u001b[0mcontent\u001b[0m\u001b[1;33m)\u001b[0m\u001b[1;33m\u001b[0m\u001b[1;33m\u001b[0m\u001b[0m\n",
      "\u001b[1;32mc:\\Users\\rafam\\OneDrive\\Área de Trabalho\\Trabalho_NLP\\fiap\\lib\\site-packages\\pandas\\core\\frame.py\u001b[0m in \u001b[0;36m?\u001b[1;34m(self, data, index, columns, dtype, copy)\u001b[0m\n\u001b[0;32m    882\u001b[0m                 )\n\u001b[0;32m    883\u001b[0m         \u001b[1;31m# For data is scalar\u001b[0m\u001b[1;33m\u001b[0m\u001b[1;33m\u001b[0m\u001b[1;33m\u001b[0m\u001b[0m\n\u001b[0;32m    884\u001b[0m         \u001b[1;32melse\u001b[0m\u001b[1;33m:\u001b[0m\u001b[1;33m\u001b[0m\u001b[1;33m\u001b[0m\u001b[0m\n\u001b[0;32m    885\u001b[0m             \u001b[1;32mif\u001b[0m \u001b[0mindex\u001b[0m \u001b[1;32mis\u001b[0m \u001b[1;32mNone\u001b[0m \u001b[1;32mor\u001b[0m \u001b[0mcolumns\u001b[0m \u001b[1;32mis\u001b[0m \u001b[1;32mNone\u001b[0m\u001b[1;33m:\u001b[0m\u001b[1;33m\u001b[0m\u001b[1;33m\u001b[0m\u001b[0m\n\u001b[1;32m--> 886\u001b[1;33m                 \u001b[1;32mraise\u001b[0m \u001b[0mValueError\u001b[0m\u001b[1;33m(\u001b[0m\u001b[1;34m\"DataFrame constructor not properly called!\"\u001b[0m\u001b[1;33m)\u001b[0m\u001b[1;33m\u001b[0m\u001b[1;33m\u001b[0m\u001b[0m\n\u001b[0m\u001b[0;32m    887\u001b[0m \u001b[1;33m\u001b[0m\u001b[0m\n\u001b[0;32m    888\u001b[0m             \u001b[0mindex\u001b[0m \u001b[1;33m=\u001b[0m \u001b[0mensure_index\u001b[0m\u001b[1;33m(\u001b[0m\u001b[0mindex\u001b[0m\u001b[1;33m)\u001b[0m\u001b[1;33m\u001b[0m\u001b[1;33m\u001b[0m\u001b[0m\n\u001b[0;32m    889\u001b[0m             \u001b[0mcolumns\u001b[0m \u001b[1;33m=\u001b[0m \u001b[0mensure_index\u001b[0m\u001b[1;33m(\u001b[0m\u001b[0mcolumns\u001b[0m\u001b[1;33m)\u001b[0m\u001b[1;33m\u001b[0m\u001b[1;33m\u001b[0m\u001b[0m\n",
      "\u001b[1;31mValueError\u001b[0m: DataFrame constructor not properly called!"
     ]
    }
   ],
   "source": [
    "print(completion.choices[0].message.content)\n",
    "pd.DataFrame(completion.choices[0].message.content)\n"
   ]
  },
  {
   "cell_type": "code",
   "execution_count": 117,
   "metadata": {},
   "outputs": [],
   "source": [
    "df = pd.read_excel('transcricoes_large.xlsx')"
   ]
  },
  {
   "cell_type": "code",
   "execution_count": 118,
   "metadata": {},
   "outputs": [
    {
     "data": {
      "text/html": [
       "<div>\n",
       "<style scoped>\n",
       "    .dataframe tbody tr th:only-of-type {\n",
       "        vertical-align: middle;\n",
       "    }\n",
       "\n",
       "    .dataframe tbody tr th {\n",
       "        vertical-align: top;\n",
       "    }\n",
       "\n",
       "    .dataframe thead th {\n",
       "        text-align: right;\n",
       "    }\n",
       "</style>\n",
       "<table border=\"1\" class=\"dataframe\">\n",
       "  <thead>\n",
       "    <tr style=\"text-align: right;\">\n",
       "      <th></th>\n",
       "      <th>Texto</th>\n",
       "    </tr>\n",
       "  </thead>\n",
       "  <tbody>\n",
       "    <tr>\n",
       "      <th>0</th>\n",
       "      <td>É que, Natália, boa tarde. Boa tarde, Natália...</td>\n",
       "    </tr>\n",
       "    <tr>\n",
       "      <th>1</th>\n",
       "      <td>Alô? Alô, bom dia, Seu Leandro. Eu. É a Lília...</td>\n",
       "    </tr>\n",
       "    <tr>\n",
       "      <th>2</th>\n",
       "      <td>Rádio São Paulista, João Paulo, bom dia. Bom ...</td>\n",
       "    </tr>\n",
       "  </tbody>\n",
       "</table>\n",
       "</div>"
      ],
      "text/plain": [
       "                                               Texto\n",
       "0   É que, Natália, boa tarde. Boa tarde, Natália...\n",
       "1   Alô? Alô, bom dia, Seu Leandro. Eu. É a Lília...\n",
       "2   Rádio São Paulista, João Paulo, bom dia. Bom ..."
      ]
     },
     "execution_count": 118,
     "metadata": {},
     "output_type": "execute_result"
    }
   ],
   "source": [
    "df"
   ]
  },
  {
   "cell_type": "code",
   "execution_count": 119,
   "metadata": {},
   "outputs": [],
   "source": [
    "from nltk.tokenize import WordPunctTokenizer\n",
    "\n",
    "# Inicialização de variáveis\n",
    "token_pontuacao = WordPunctTokenizer()\n",
    "lista_interrogacao = []\n",
    "frase = []\n",
    "nova_frase = []\n",
    "\n",
    "\n",
    "df_lista = df['Texto'][0]\n",
    "\n",
    "\n",
    "for i in df_lista:\n",
    "    frase.append(i)\n",
    "    if i == '?':\n",
    "        nova_frase.append(''.join(frase))\n",
    "        lista_interrogacao.append(''.join(nova_frase))\n",
    "        frase = []\n",
    "        nova_frase = []\n",
    "\n",
    "\n",
    "\n"
   ]
  },
  {
   "cell_type": "code",
   "execution_count": 120,
   "metadata": {},
   "outputs": [
    {
     "data": {
      "text/plain": [
       "[' É que, Natália, boa tarde. Boa tarde, Natália. É Leda Totos, o Sr. William se encontra?',\n",
       " ' Sim, só um minutinho. Obrigada. Oi, boa tarde, Leda Totos, eu falo com o William?',\n",
       " ' Isso. Tudo bem?',\n",
       " ' Tudo, tudo bem. Que ótimo. O Sr. William, sou do Departamento Voz do Cliente da Totos, estou entrando em contato para fazer o NPS, que é uma avaliação geral anual. O Sr. tem dois minutos?',\n",
       " ' Pode ser. Pode ser?',\n",
       " ' Tá bem. Só vou confirmar algumas informações. Empresa Colbec, Indústria e Comércio de Confecções, final do CNPJ 1000 contra 28, e o e-mail... Isso. Ok. Iniciando. De uma escala de 0 a 10, qual a probabilidade do Sr. recomendar a marca Totos a alguém hoje no geral?',\n",
       " ' 10. Suporte técnico ou uma nota para agilidade nos processos?',\n",
       " ' Também 10. 10. E o atendimento em si dos agentes?',\n",
       " ' Também. É muito bom. 10. Atendimento do Executivo de Vendas Comercial?',\n",
       " ' Esse eu tenho menos contato, então, não sei te dizer hoje, porque eu praticamente não uso. Mas quando eu precisei, sempre foi muito bom. Então, também pode colocar 10. Não é mais a mesma pessoa que me atende, mas o anterior era muito bom. Tá. O Sr. prefere dar nota 10 mesmo ou pular?',\n",
       " ' Pode ser sim. Não pode botar porque... Tá bom. Com relação aos custos e os valores?',\n",
       " ' Esse dói um pouco. Eu diria um 8. É bom, mas é pesado. Ok. Nota 8. Atendimento da Administrativa e Financeiro?',\n",
       " ' Esse eu prefiro pular porque eu nunca tive contato com essa parte. Certo. Mais três perguntas. O programa que vocês estão usando atende a necessidade da empresa total, parcial ou não atende?',\n",
       " ' Atende total. Total. Uma nota para as atualizações?',\n",
       " ' 10 também. 10?',\n",
       " ' Isso. E a última pergunta para avaliar a unidade TOTO Serra Gaúcha?',\n",
       " ' Também. Também nota 10. Muito bom. Certo. Gostaria de comentar, deixar alguma sugestão, reclamação, elogio?',\n",
       " ' Não. Tudo em ordem com vocês aí. Tudo certo. Então, tá bom. Então, continue assim. Obrigada, Sr. William, pela atenção. Ano que vem a gente retorna o contato de novo, tá?']"
      ]
     },
     "execution_count": 120,
     "metadata": {},
     "output_type": "execute_result"
    }
   ],
   "source": [
    "lista_interrogacao"
   ]
  },
  {
   "cell_type": "code",
   "execution_count": 121,
   "metadata": {},
   "outputs": [
    {
     "name": "stdout",
     "output_type": "stream",
     "text": [
      " Tá bem. Só vou confirmar algumas informações. Empresa Colbec, Indústria e Comércio de Confecções, final do CNPJ 1000 contra 28, e o e-mail... Isso. Ok. Iniciando. De uma escala de 0 a 10, qual a probabilidade do Sr. recomendar a marca Totos a alguém hoje no geral?\n"
     ]
    }
   ],
   "source": [
    "lista = ['possibilidade','recomendar']\n",
    "for i in lista_interrogacao:\n",
    "  for j in lista:\n",
    "    if j in i:\n",
    "      print(i)"
   ]
  },
  {
   "cell_type": "code",
   "execution_count": 122,
   "metadata": {},
   "outputs": [
    {
     "name": "stdout",
     "output_type": "stream",
     "text": [
      "A palavra 'recomendar' foi encontrada na posição 217\n"
     ]
    }
   ],
   "source": [
    "for i in lista_interrogacao:\n",
    "    for j in lista:\n",
    "        if j in i:\n",
    "            pos = i.find(j)\n",
    "            print(f\"A palavra '{j}' foi encontrada na posição {pos}\")"
   ]
  },
  {
   "cell_type": "code",
   "execution_count": 123,
   "metadata": {},
   "outputs": [
    {
     "name": "stdout",
     "output_type": "stream",
     "text": [
      "[(575, '0'), (579, '10'), (660, '10'), (729, '10'), (733, '10'), (793, '10'), (1007, '10'), (1109, '10'), (1243, '8'), (1276, '8'), (1566, '10'), (1577, '10'), (1669, '10')]\n",
      "\n",
      "\n",
      "A palavra 'recomendar' foi encontrada em: ' Tá bem. Só vou confirmar algumas informações. Empresa Colbec, Indústria e Comércio de Confecções, final do CNPJ 1000 contra 28, e o e-mail... Isso. Ok. Iniciando. De uma escala de 0 a 10, qual a probabilidade do Sr. recomendar a marca Totos a alguém hoje no geral?' na posição 217\n",
      "\n",
      "\n",
      "String como lista de palavras: ['Tá', 'bem.', 'Só', 'vou', 'confirmar', 'algumas', 'informações.', 'Empresa', 'Colbec,', 'Indústria', 'e', 'Comércio', 'de', 'Confecções,', 'final', 'do', 'CNPJ', '1000', 'contra', '28,', 'e', 'o', 'e-mail...', 'Isso.', 'Ok.', 'Iniciando.', 'De', 'uma', 'escala', 'de', '0', 'a', '10,', 'qual', 'a', 'probabilidade', 'do', 'Sr.', 'recomendar', 'a', 'marca', 'Totos', 'a', 'alguém', 'hoje', 'no', 'geral?']\n",
      "\n",
      "\n",
      "A palavra 'recomendar' está na posição 38 da lista de palavras\n"
     ]
    }
   ],
   "source": [
    "import re\n",
    "\n",
    "lista = ['possibilidade', 'recomendar']\n",
    "padrao = r'\\b(?:[0-9]|10)\\b'\n",
    "resultado = re.findall(padrao,df['Texto'][0])\n",
    "import re\n",
    "\n",
    "# Suponha que df['Texto'][0] seja a string que você deseja analisar\n",
    "texto = df['Texto'][0]\n",
    "\n",
    "# Use re.finditer() para encontrar as ocorrências e suas posições\n",
    "resultados = re.finditer(padrao, texto)\n",
    "\n",
    "# Prepare listas para armazenar as posições e os padrões encontrados\n",
    "posicoes = []\n",
    "padroes_encontrados = []\n",
    "\n",
    "for match in resultados:\n",
    "    posicoes.append(match.start())  # Posição inicial do padrão encontrado\n",
    "    padroes_encontrados.append(match.group())  # O padrão encontrado\n",
    "\n",
    "# Combine as posições e os padrões encontrados em uma lista de tuplas\n",
    "resultado_final = list(zip(posicoes, padroes_encontrados))\n",
    "\n",
    "print(resultado_final)\n",
    "print(\"\\n\")\n",
    "for i in lista_interrogacao:\n",
    "    \n",
    "    for j in lista:\n",
    "        if j in i:\n",
    "            pos = i.find(j)\n",
    "            # Transformar a string em uma lista de palavras\n",
    "            palavras = i.split()\n",
    "            # Encontrar a posição da palavra na lista\n",
    "            palavra_pos = palavras.index(j)\n",
    "            print(f\"A palavra '{j}' foi encontrada em: '{i}' na posição {pos}\")\n",
    "            print(\"\\n\")\n",
    "            print(f\"String como lista de palavras: {palavras}\")\n",
    "            print(\"\\n\")\n",
    "            print(f\"A palavra '{j}' está na posição {palavra_pos} da lista de palavras\")\n"
   ]
  },
  {
   "cell_type": "code",
   "execution_count": 124,
   "metadata": {},
   "outputs": [],
   "source": [
    "df_teste = list()\n",
    "for i in resultado_final:\n",
    "    df_teste.append({'PosicaoNota':i[0],'Digito':i[1]})"
   ]
  },
  {
   "cell_type": "code",
   "execution_count": 125,
   "metadata": {},
   "outputs": [],
   "source": [
    "df_teste2 = list()\n",
    "df_teste2.append({'PosicaoLista':pos,'PosicaoListaPalavras':palavra_pos,'PalavraChave':'recomendar'})"
   ]
  },
  {
   "cell_type": "code",
   "execution_count": 126,
   "metadata": {},
   "outputs": [
    {
     "data": {
      "text/html": [
       "<div>\n",
       "<style scoped>\n",
       "    .dataframe tbody tr th:only-of-type {\n",
       "        vertical-align: middle;\n",
       "    }\n",
       "\n",
       "    .dataframe tbody tr th {\n",
       "        vertical-align: top;\n",
       "    }\n",
       "\n",
       "    .dataframe thead th {\n",
       "        text-align: right;\n",
       "    }\n",
       "</style>\n",
       "<table border=\"1\" class=\"dataframe\">\n",
       "  <thead>\n",
       "    <tr style=\"text-align: right;\">\n",
       "      <th></th>\n",
       "      <th>PosicaoLista</th>\n",
       "      <th>PosicaoListaPalavras</th>\n",
       "      <th>PalavraChave</th>\n",
       "    </tr>\n",
       "  </thead>\n",
       "  <tbody>\n",
       "    <tr>\n",
       "      <th>0</th>\n",
       "      <td>217</td>\n",
       "      <td>38</td>\n",
       "      <td>recomendar</td>\n",
       "    </tr>\n",
       "  </tbody>\n",
       "</table>\n",
       "</div>"
      ],
      "text/plain": [
       "   PosicaoLista  PosicaoListaPalavras PalavraChave\n",
       "0           217                    38   recomendar"
      ]
     },
     "execution_count": 126,
     "metadata": {},
     "output_type": "execute_result"
    }
   ],
   "source": [
    "df_teste2 = pd.DataFrame(df_teste2)\n",
    "df_teste2"
   ]
  },
  {
   "cell_type": "code",
   "execution_count": 127,
   "metadata": {},
   "outputs": [
    {
     "data": {
      "text/html": [
       "<div>\n",
       "<style scoped>\n",
       "    .dataframe tbody tr th:only-of-type {\n",
       "        vertical-align: middle;\n",
       "    }\n",
       "\n",
       "    .dataframe tbody tr th {\n",
       "        vertical-align: top;\n",
       "    }\n",
       "\n",
       "    .dataframe thead th {\n",
       "        text-align: right;\n",
       "    }\n",
       "</style>\n",
       "<table border=\"1\" class=\"dataframe\">\n",
       "  <thead>\n",
       "    <tr style=\"text-align: right;\">\n",
       "      <th></th>\n",
       "      <th>PosicaoNota</th>\n",
       "      <th>Digito</th>\n",
       "    </tr>\n",
       "  </thead>\n",
       "  <tbody>\n",
       "    <tr>\n",
       "      <th>0</th>\n",
       "      <td>575</td>\n",
       "      <td>0</td>\n",
       "    </tr>\n",
       "    <tr>\n",
       "      <th>1</th>\n",
       "      <td>579</td>\n",
       "      <td>10</td>\n",
       "    </tr>\n",
       "    <tr>\n",
       "      <th>2</th>\n",
       "      <td>660</td>\n",
       "      <td>10</td>\n",
       "    </tr>\n",
       "    <tr>\n",
       "      <th>3</th>\n",
       "      <td>729</td>\n",
       "      <td>10</td>\n",
       "    </tr>\n",
       "    <tr>\n",
       "      <th>4</th>\n",
       "      <td>733</td>\n",
       "      <td>10</td>\n",
       "    </tr>\n",
       "    <tr>\n",
       "      <th>5</th>\n",
       "      <td>793</td>\n",
       "      <td>10</td>\n",
       "    </tr>\n",
       "    <tr>\n",
       "      <th>6</th>\n",
       "      <td>1007</td>\n",
       "      <td>10</td>\n",
       "    </tr>\n",
       "    <tr>\n",
       "      <th>7</th>\n",
       "      <td>1109</td>\n",
       "      <td>10</td>\n",
       "    </tr>\n",
       "    <tr>\n",
       "      <th>8</th>\n",
       "      <td>1243</td>\n",
       "      <td>8</td>\n",
       "    </tr>\n",
       "    <tr>\n",
       "      <th>9</th>\n",
       "      <td>1276</td>\n",
       "      <td>8</td>\n",
       "    </tr>\n",
       "    <tr>\n",
       "      <th>10</th>\n",
       "      <td>1566</td>\n",
       "      <td>10</td>\n",
       "    </tr>\n",
       "    <tr>\n",
       "      <th>11</th>\n",
       "      <td>1577</td>\n",
       "      <td>10</td>\n",
       "    </tr>\n",
       "    <tr>\n",
       "      <th>12</th>\n",
       "      <td>1669</td>\n",
       "      <td>10</td>\n",
       "    </tr>\n",
       "  </tbody>\n",
       "</table>\n",
       "</div>"
      ],
      "text/plain": [
       "    PosicaoNota Digito\n",
       "0           575      0\n",
       "1           579     10\n",
       "2           660     10\n",
       "3           729     10\n",
       "4           733     10\n",
       "5           793     10\n",
       "6          1007     10\n",
       "7          1109     10\n",
       "8          1243      8\n",
       "9          1276      8\n",
       "10         1566     10\n",
       "11         1577     10\n",
       "12         1669     10"
      ]
     },
     "execution_count": 127,
     "metadata": {},
     "output_type": "execute_result"
    }
   ],
   "source": [
    "df_teste = pd.DataFrame(df_teste)\n",
    "df_teste"
   ]
  },
  {
   "cell_type": "code",
   "execution_count": 188,
   "metadata": {},
   "outputs": [
    {
     "data": {
      "text/html": [
       "<div>\n",
       "<style scoped>\n",
       "    .dataframe tbody tr th:only-of-type {\n",
       "        vertical-align: middle;\n",
       "    }\n",
       "\n",
       "    .dataframe tbody tr th {\n",
       "        vertical-align: top;\n",
       "    }\n",
       "\n",
       "    .dataframe thead th {\n",
       "        text-align: right;\n",
       "    }\n",
       "</style>\n",
       "<table border=\"1\" class=\"dataframe\">\n",
       "  <thead>\n",
       "    <tr style=\"text-align: right;\">\n",
       "      <th></th>\n",
       "      <th>Agilidade nos Processos do Suporte Técnico</th>\n",
       "      <th>Atendimento dos Agentes do Suporte Técnico</th>\n",
       "      <th>Probabilidade de Recomendação</th>\n",
       "      <th>Atendimento do Executivo de Vendas</th>\n",
       "      <th>Custos e Valores dos Produtos Contratados</th>\n",
       "      <th>Atendimento do Financeiro</th>\n",
       "      <th>Satisfação com a Implantação do Software</th>\n",
       "      <th>Experiência com a Atualização do Software</th>\n",
       "      <th>Atendimento Realizado pela Unidade TOTVS</th>\n",
       "    </tr>\n",
       "  </thead>\n",
       "  <tbody>\n",
       "    <tr>\n",
       "      <th>Texto1</th>\n",
       "      <td>10</td>\n",
       "      <td>0</td>\n",
       "      <td>10</td>\n",
       "      <td>10</td>\n",
       "      <td>8</td>\n",
       "      <td>10</td>\n",
       "      <td>10</td>\n",
       "      <td>10</td>\n",
       "      <td>10</td>\n",
       "    </tr>\n",
       "    <tr>\n",
       "      <th>Texto2</th>\n",
       "      <td>0</td>\n",
       "      <td>0</td>\n",
       "      <td>0</td>\n",
       "      <td>0</td>\n",
       "      <td>0</td>\n",
       "      <td>0</td>\n",
       "      <td>0</td>\n",
       "      <td>0</td>\n",
       "      <td>0</td>\n",
       "    </tr>\n",
       "    <tr>\n",
       "      <th>Texto3</th>\n",
       "      <td>9</td>\n",
       "      <td>0</td>\n",
       "      <td>10</td>\n",
       "      <td>0</td>\n",
       "      <td>9</td>\n",
       "      <td>3</td>\n",
       "      <td>0</td>\n",
       "      <td>10</td>\n",
       "      <td>10</td>\n",
       "    </tr>\n",
       "  </tbody>\n",
       "</table>\n",
       "</div>"
      ],
      "text/plain": [
       "        Agilidade nos Processos do Suporte Técnico  \\\n",
       "Texto1                                          10   \n",
       "Texto2                                           0   \n",
       "Texto3                                           9   \n",
       "\n",
       "        Atendimento dos Agentes do Suporte Técnico  \\\n",
       "Texto1                                           0   \n",
       "Texto2                                           0   \n",
       "Texto3                                           0   \n",
       "\n",
       "        Probabilidade de Recomendação  Atendimento do Executivo de Vendas  \\\n",
       "Texto1                             10                                  10   \n",
       "Texto2                              0                                   0   \n",
       "Texto3                             10                                   0   \n",
       "\n",
       "        Custos e Valores dos Produtos Contratados  Atendimento do Financeiro  \\\n",
       "Texto1                                          8                         10   \n",
       "Texto2                                          0                          0   \n",
       "Texto3                                          9                          3   \n",
       "\n",
       "        Satisfação com a Implantação do Software  \\\n",
       "Texto1                                        10   \n",
       "Texto2                                         0   \n",
       "Texto3                                         0   \n",
       "\n",
       "        Experiência com a Atualização do Software  \\\n",
       "Texto1                                         10   \n",
       "Texto2                                          0   \n",
       "Texto3                                         10   \n",
       "\n",
       "        Atendimento Realizado pela Unidade TOTVS  \n",
       "Texto1                                        10  \n",
       "Texto2                                         0  \n",
       "Texto3                                        10  "
      ]
     },
     "execution_count": 188,
     "metadata": {},
     "output_type": "execute_result"
    }
   ],
   "source": [
    "import pandas as pd\n",
    "import re\n",
    "\n",
    "\n",
    "\n",
    "padroes = {\n",
    "    'Agilidade nos Processos do Suporte Técnico': re.compile(r'Suporte técnico.*?agilidade nos processos.*?(\\d{1,2})(?=\\b)', re.IGNORECASE),\n",
    "    'Atendimento dos Agentes do Suporte Técnico': re.compile(r'atendimento dos agentes.*?(\\d{1,2})(?=\\b)', re.IGNORECASE),\n",
    "    'Probabilidade de Recomendação': re.compile(r'qual a probabilidade.*?recomendar.*?(\\d{1,2})(?=\\b)', re.IGNORECASE),\n",
    "    'Atendimento do Executivo de Vendas': re.compile(r'Atendimento.*?Executivo de Vendas.*?(\\d{1,2})(?=\\b)', re.IGNORECASE),\n",
    "    'Custos e Valores dos Produtos Contratados': re.compile(r'custos.*?valores.*?(\\d{1,2})(?=\\b)', re.IGNORECASE),\n",
    "    'Atendimento do Financeiro': re.compile(r'Atendimento.*?Financeiro.*?(\\d{1,2})(?=\\b)', re.IGNORECASE),\n",
    "    'Satisfação com a Implantação do Software': re.compile(r'programa.*?atende.*?(\\d{1,2})(?=\\b)', re.IGNORECASE),\n",
    "    'Experiência com a Atualização do Software': re.compile(r'atualizações.*?(\\d{1,2})(?=\\b)', re.IGNORECASE),\n",
    "    'Atendimento Realizado pela Unidade TOTVS': re.compile(r'avaliar a Unidade.*?(\\d{1,2})(?=\\b)', re.IGNORECASE)\n",
    "}\n",
    "\n",
    "# Função para extrair notas com padrão e preencher com zero se não houver nota\n",
    "def extrair_notas(texto, padroes):\n",
    "    notas = {}\n",
    "    for pergunta, padrao in padroes.items():\n",
    "        resultado = padrao.search(texto)\n",
    "        if resultado:\n",
    "            notas[pergunta] = int(resultado.group(1))\n",
    "        else:\n",
    "            notas[pergunta] = 0\n",
    "    return notas\n",
    "\n",
    "# Supondo que df já esteja definido, contendo o texto a ser processado\n",
    "# Inicializar uma lista para armazenar todas as notas\n",
    "todas_notas = []\n",
    "\n",
    "# Extrair notas para cada texto e adicionar à lista\n",
    "for i in range(len(df)):\n",
    "    notas = extrair_notas(df['Texto'][i], padroes)\n",
    "    todas_notas.append(notas)\n",
    "\n",
    "# Criar o DataFrame com as notas\n",
    "df_notas = pd.DataFrame(todas_notas,index=['Texto1', 'Texto2', 'Texto3'])\n",
    "\n",
    "# Exibir o DataFrame com as notas\n",
    "df_notas\n"
   ]
  },
  {
   "cell_type": "code",
   "execution_count": 175,
   "metadata": {},
   "outputs": [
    {
     "data": {
      "text/html": [
       "<div>\n",
       "<style scoped>\n",
       "    .dataframe tbody tr th:only-of-type {\n",
       "        vertical-align: middle;\n",
       "    }\n",
       "\n",
       "    .dataframe tbody tr th {\n",
       "        vertical-align: top;\n",
       "    }\n",
       "\n",
       "    .dataframe thead th {\n",
       "        text-align: right;\n",
       "    }\n",
       "</style>\n",
       "<table border=\"1\" class=\"dataframe\">\n",
       "  <thead>\n",
       "    <tr style=\"text-align: right;\">\n",
       "      <th></th>\n",
       "      <th>Agilidade nos Processos do Suporte Técnico</th>\n",
       "      <th>Atendimento dos Agentes do Suporte Técnico</th>\n",
       "      <th>Probabilidade de Recomendação</th>\n",
       "      <th>Atendimento do Executivo de Vendas</th>\n",
       "      <th>Custos e Valores dos Produtos Contratados</th>\n",
       "      <th>Atendimento do Financeiro</th>\n",
       "      <th>Satisfação com a Implantação do Software</th>\n",
       "      <th>Experiência com a Atualização do Software</th>\n",
       "      <th>Atendimento Realizado pela Unidade TOTVS</th>\n",
       "    </tr>\n",
       "  </thead>\n",
       "  <tbody>\n",
       "    <tr>\n",
       "      <th>Texto1</th>\n",
       "      <td>10</td>\n",
       "      <td>Não encontrado</td>\n",
       "      <td>10</td>\n",
       "      <td>10</td>\n",
       "      <td>8</td>\n",
       "      <td>10</td>\n",
       "      <td>10</td>\n",
       "      <td>10</td>\n",
       "      <td>10</td>\n",
       "    </tr>\n",
       "    <tr>\n",
       "      <th>Texto2</th>\n",
       "      <td>Não encontrado</td>\n",
       "      <td>Não encontrado</td>\n",
       "      <td>Não encontrado</td>\n",
       "      <td>Não encontrado</td>\n",
       "      <td>Não encontrado</td>\n",
       "      <td>Não encontrado</td>\n",
       "      <td>Não encontrado</td>\n",
       "      <td>Não encontrado</td>\n",
       "      <td>Não encontrado</td>\n",
       "    </tr>\n",
       "    <tr>\n",
       "      <th>Texto3</th>\n",
       "      <td>9</td>\n",
       "      <td>Não encontrado</td>\n",
       "      <td>10</td>\n",
       "      <td>Não encontrado</td>\n",
       "      <td>9</td>\n",
       "      <td>3</td>\n",
       "      <td>Não encontrado</td>\n",
       "      <td>10</td>\n",
       "      <td>10</td>\n",
       "    </tr>\n",
       "  </tbody>\n",
       "</table>\n",
       "</div>"
      ],
      "text/plain": [
       "       Agilidade nos Processos do Suporte Técnico  \\\n",
       "Texto1                                         10   \n",
       "Texto2                             Não encontrado   \n",
       "Texto3                                          9   \n",
       "\n",
       "       Atendimento dos Agentes do Suporte Técnico  \\\n",
       "Texto1                             Não encontrado   \n",
       "Texto2                             Não encontrado   \n",
       "Texto3                             Não encontrado   \n",
       "\n",
       "       Probabilidade de Recomendação Atendimento do Executivo de Vendas  \\\n",
       "Texto1                            10                                 10   \n",
       "Texto2                Não encontrado                     Não encontrado   \n",
       "Texto3                            10                     Não encontrado   \n",
       "\n",
       "       Custos e Valores dos Produtos Contratados Atendimento do Financeiro  \\\n",
       "Texto1                                         8                        10   \n",
       "Texto2                            Não encontrado            Não encontrado   \n",
       "Texto3                                         9                         3   \n",
       "\n",
       "       Satisfação com a Implantação do Software  \\\n",
       "Texto1                                       10   \n",
       "Texto2                           Não encontrado   \n",
       "Texto3                           Não encontrado   \n",
       "\n",
       "       Experiência com a Atualização do Software  \\\n",
       "Texto1                                        10   \n",
       "Texto2                            Não encontrado   \n",
       "Texto3                                        10   \n",
       "\n",
       "       Atendimento Realizado pela Unidade TOTVS  \n",
       "Texto1                                       10  \n",
       "Texto2                           Não encontrado  \n",
       "Texto3                                       10  "
      ]
     },
     "execution_count": 175,
     "metadata": {},
     "output_type": "execute_result"
    }
   ],
   "source": [
    "import pandas as pd\n",
    "import re\n",
    "\n",
    "# Define os padrões para as perguntas e suas notas com ajustes adicionais\n",
    "import re\n",
    "\n",
    "import re\n",
    "\n",
    "padroes = {\n",
    "    'Agilidade nos Processos do Suporte Técnico': re.compile(r'Suporte técnico.*?agilidade nos processos.*?(\\d{1,2})(?=\\b)', re.IGNORECASE),\n",
    "    'Atendimento dos Agentes do Suporte Técnico': re.compile(r'atendimento dos agentes.*?(\\d{1,2})(?=\\b)', re.IGNORECASE),\n",
    "    'Probabilidade de Recomendação': re.compile(r'qual a probabilidade.*?recomendar.*?(\\d{1,2})(?=\\b)', re.IGNORECASE),\n",
    "    'Atendimento do Executivo de Vendas': re.compile(r'Atendimento.*?Executivo de Vendas.*?(\\d{1,2})(?=\\b)', re.IGNORECASE),\n",
    "    'Custos e Valores dos Produtos Contratados': re.compile(r'custos.*?valores.*?(\\d{1,2})(?=\\b)', re.IGNORECASE),\n",
    "    'Atendimento do Financeiro': re.compile(r'Atendimento.*?Financeiro.*?(\\d{1,2})(?=\\b)', re.IGNORECASE),\n",
    "    'Satisfação com a Implantação do Software': re.compile(r'programa.*?atende.*?(\\d{1,2})(?=\\b)', re.IGNORECASE),\n",
    "    'Experiência com a Atualização do Software': re.compile(r'atualizações.*?(\\d{1,2})(?=\\b)', re.IGNORECASE),\n",
    "    'Atendimento Realizado pela Unidade TOTVS': re.compile(r'avaliar a Unidade.*?(\\d{1,2})(?=\\b)', re.IGNORECASE)\n",
    "}\n",
    "\n",
    "# Função para extrair notas com padrão e preencher com zero se não houver nota\n",
    "def extrair_notas(texto, padroes):\n",
    "    resultados = {}\n",
    "    for pergunta, padrao in padroes.items():\n",
    "        match = padrao.search(texto)\n",
    "        if match:\n",
    "            resultados[pergunta] = match.group(1)\n",
    "        else:\n",
    "            resultados[pergunta] = \"Não encontrado\"\n",
    "    return resultados\n",
    "\n",
    "# Supondo que df já esteja definido, contendo o texto a ser processado\n",
    "# Inicializar uma lista para armazenar todas as notas\n",
    "todas_notas = []\n",
    "\n",
    "# Extrair notas para cada texto e adicionar à lista\n",
    "for i in range(len(df)):\n",
    "    notas = extrair_notas(df['Texto'][i], padroes)\n",
    "    todas_notas.append(notas)\n",
    "\n",
    "# Criar o DataFrame com as notas\n",
    "df_notas = pd.DataFrame(todas_notas, index=['Texto1', 'Texto2', 'Texto3'])\n",
    "\n",
    "# Exibir o DataFrame com as notas\n",
    "df_notas\n"
   ]
  },
  {
   "cell_type": "code",
   "execution_count": 130,
   "metadata": {},
   "outputs": [],
   "source": [
    "t = {}\n",
    "gabarito2 = pd.DataFrame({\n",
    "    \"Agilidade nos processos de suporte técnico\": [10, 6, 9],\n",
    "    \"Atendimento dos Agentes do Suporte Técnico\": [10, 0, 0],\n",
    "    \"Probabilidade de recomendar a marca Tótoz\": [10, 9, 10],\n",
    "    \"Atendimento do Executivo de Vendas Comercial\": [10, 7, 8],\n",
    "    \"Custos e valores\": [8, 5, 7],\n",
    "    \"Atendimento Administrativo e Financeiro\": [0, 0, 0],\n",
    "    \"Satisfação com a Implantação do Software\": [0, 0, 0],\n",
    "    \"Experiência com a Atualização do Software\": [10, 5, 8],\n",
    "    \"Atendimento Realizado pela Unidade TOTVS\": [10, 0, 9],\n",
    "    \"Programa atende às necessidades da empresa\": [\"Total\",\"Total\",\"Total\"],\n",
    "    \"Nota para as atualizações\": [10,5,8],\n",
    "    \"Unidade totvs\":\"Unidade Ibirapuera\"\n",
    "}, index=['Texto1', 'Texto2', 'Texto3'])"
   ]
  },
  {
   "cell_type": "code",
   "execution_count": 131,
   "metadata": {},
   "outputs": [],
   "source": [
    "\n",
    "gabarito = pd.DataFrame({\n",
    "    \"Agilidade nos processos de suporte técnico\": [10, 6, 9],\n",
    "    \"Atendimento dos Agentes do Suporte Técnico\": [10, 0, 0],\n",
    "    \"Probabilidade de recomendar a marca Tótoz\": [10, 9, 10],\n",
    "    \"Atendimento do Executivo de Vendas Comercial\": [10, 7, 8],\n",
    "    \"Custos e valores\": [8, 5, 7],\n",
    "    \"Atendimento Administrativo e Financeiro\": [0, 0, 0],\n",
    "    \"Satisfação com a Implantação do Software\": [0, 0, 0],\n",
    "    \"Experiência com a Atualização do Software\": [10, 5, 8],\n",
    "    \"Atendimento Realizado pela Unidade TOTVS\": [10, 0, 9]\n",
    "}, index=['Texto1', 'Texto2', 'Texto3'])\n",
    "\n"
   ]
  },
  {
   "cell_type": "code",
   "execution_count": 132,
   "metadata": {},
   "outputs": [
    {
     "data": {
      "text/plain": [
       "'Agilidade nos processos de suporte técnico'"
      ]
     },
     "execution_count": 132,
     "metadata": {},
     "output_type": "execute_result"
    }
   ],
   "source": [
    "gabarito.columns[0]"
   ]
  },
  {
   "cell_type": "code",
   "execution_count": 133,
   "metadata": {},
   "outputs": [],
   "source": [
    "colunas_map = {\n",
    "    'Probabilidade de recomendar a marca Tótoz': 'Probabilidade de Recomendação',\n",
    "    'Agilidade nos processos de suporte técnico': 'Agilidade nos Processos do Suporte Técnico',\n",
    "    'Atendimento dos agentes': 'Atendimento dos Agentes do Suporte Técnico',\n",
    "    'Atendimento do Executivo de Vendas Comercial': 'Atendimento do Executivo de Vendas',\n",
    "    'Custos e valores': 'Custos e Valores dos Produtos Contratados',\n",
    "    'Atendimento Administrativo e Financeiro': 'Atendimento do Financeiro',\n",
    "    'Programa atende às necessidades da empresa': 'Satisfação com a Implantação do Software',\n",
    "    'Nota para as atualizações': 'Experiência com a Atualização do Software',\n",
    "    'Unidade CRHG': 'Atendimento Realizado pela Unidade TOTVS',\n",
    "    'Satisfação com a Implantação do Software': 'Satisfação com a Implantação do Software',\n",
    "    'Experiência com a Atualização do Software': 'Experiência com a Atualização do Software',\n",
    "    'Atendimento Realizado pela Unidade TOTVS': 'Atendimento Realizado pela Unidade TOTVS'\n",
    "}\n"
   ]
  },
  {
   "cell_type": "code",
   "execution_count": 176,
   "metadata": {},
   "outputs": [],
   "source": [
    "def acuracia(gabarito, df_notas):\n",
    "    indice = 0\n",
    "    acertos_linha=0\n",
    "    acuracia_linha = list()\n",
    "    soma = 0\n",
    "\n",
    "    for linha in df_notas.index:\n",
    "        \n",
    "        for coluna in df_notas.columns:\n",
    "            coluna_gab = gabarito.columns[indice]\n",
    "            if df_notas.loc[(linha,coluna)] == gabarito.loc[(linha,coluna_gab)]:\n",
    "                acertos_linha+=1\n",
    "            \n",
    "            indice+=1\n",
    "        indice=0\n",
    "        acuracia = acertos_linha / 9\n",
    "        soma+=acuracia\n",
    "        acuracia_linha.append((linha, f\"{acuracia:.2f}\"))\n",
    "        acertos_linha=0\n",
    "    acuraria_total = f\"{soma / 3:.2f}\"\n",
    "    return acuracia_linha,acuraria_total"
   ]
  },
  {
   "cell_type": "code",
   "execution_count": 189,
   "metadata": {},
   "outputs": [
    {
     "name": "stdout",
     "output_type": "stream",
     "text": [
      "Acurácia por linha: [('Texto1', '0.67'), ('Texto2', '0.44'), ('Texto3', '0.44')]\n",
      "Acurácia total: 0.52\n"
     ]
    }
   ],
   "source": [
    "acuracia_linha, acuracia_total = acuracia(gabarito, df_notas)\n",
    "print(\"Acurácia por linha:\", acuracia_linha)\n",
    "print(\"Acurácia total:\", acuracia_total)"
   ]
  },
  {
   "cell_type": "code",
   "execution_count": null,
   "metadata": {},
   "outputs": [],
   "source": []
  }
 ],
 "metadata": {
  "kernelspec": {
   "display_name": ".venv",
   "language": "python",
   "name": "python3"
  },
  "language_info": {
   "codemirror_mode": {
    "name": "ipython",
    "version": 3
   },
   "file_extension": ".py",
   "mimetype": "text/x-python",
   "name": "python",
   "nbconvert_exporter": "python",
   "pygments_lexer": "ipython3",
   "version": "3.9.2"
  }
 },
 "nbformat": 4,
 "nbformat_minor": 2
}
