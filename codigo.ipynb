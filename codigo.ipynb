{
 "cells": [
  {
   "cell_type": "code",
   "execution_count": 65,
   "metadata": {},
   "outputs": [],
   "source": [
    "import nltk\n",
    "from nltk.tokenize import sent_tokenize\n",
    "import pandas as pd"
   ]
  },
  {
   "cell_type": "code",
   "execution_count": 66,
   "metadata": {},
   "outputs": [],
   "source": [
    "df = pd.read_excel('transcricoes_large.xlsx')"
   ]
  },
  {
   "cell_type": "code",
   "execution_count": 67,
   "metadata": {},
   "outputs": [
    {
     "data": {
      "text/html": [
       "<div>\n",
       "<style scoped>\n",
       "    .dataframe tbody tr th:only-of-type {\n",
       "        vertical-align: middle;\n",
       "    }\n",
       "\n",
       "    .dataframe tbody tr th {\n",
       "        vertical-align: top;\n",
       "    }\n",
       "\n",
       "    .dataframe thead th {\n",
       "        text-align: right;\n",
       "    }\n",
       "</style>\n",
       "<table border=\"1\" class=\"dataframe\">\n",
       "  <thead>\n",
       "    <tr style=\"text-align: right;\">\n",
       "      <th></th>\n",
       "      <th>Texto</th>\n",
       "    </tr>\n",
       "  </thead>\n",
       "  <tbody>\n",
       "    <tr>\n",
       "      <th>0</th>\n",
       "      <td>É que, Natália, boa tarde. Boa tarde, Natália...</td>\n",
       "    </tr>\n",
       "    <tr>\n",
       "      <th>1</th>\n",
       "      <td>Alô? Alô, bom dia, Seu Leandro. Eu. É a Lília...</td>\n",
       "    </tr>\n",
       "    <tr>\n",
       "      <th>2</th>\n",
       "      <td>Rádio São Paulista, João Paulo, bom dia. Bom ...</td>\n",
       "    </tr>\n",
       "  </tbody>\n",
       "</table>\n",
       "</div>"
      ],
      "text/plain": [
       "                                               Texto\n",
       "0   É que, Natália, boa tarde. Boa tarde, Natália...\n",
       "1   Alô? Alô, bom dia, Seu Leandro. Eu. É a Lília...\n",
       "2   Rádio São Paulista, João Paulo, bom dia. Bom ..."
      ]
     },
     "execution_count": 67,
     "metadata": {},
     "output_type": "execute_result"
    }
   ],
   "source": [
    "df"
   ]
  },
  {
   "cell_type": "code",
   "execution_count": 68,
   "metadata": {},
   "outputs": [],
   "source": [
    "from nltk.tokenize import WordPunctTokenizer\n",
    "\n",
    "# Inicialização de variáveis\n",
    "token_pontuacao = WordPunctTokenizer()\n",
    "lista_interrogacao = []\n",
    "frase = []\n",
    "nova_frase = []\n",
    "\n",
    "\n",
    "df_lista = df['Texto'][0]\n",
    "\n",
    "\n",
    "for i in df_lista:\n",
    "    frase.append(i)\n",
    "    if i == '?':\n",
    "        nova_frase.append(''.join(frase))\n",
    "        lista_interrogacao.append(''.join(nova_frase))\n",
    "        frase = []\n",
    "        nova_frase = []\n",
    "\n",
    "\n",
    "\n"
   ]
  },
  {
   "cell_type": "code",
   "execution_count": 69,
   "metadata": {},
   "outputs": [
    {
     "data": {
      "text/plain": [
       "[' É que, Natália, boa tarde. Boa tarde, Natália. É Leda Totos, o Sr. William se encontra?',\n",
       " ' Sim, só um minutinho. Obrigada. Oi, boa tarde, Leda Totos, eu falo com o William?',\n",
       " ' Isso. Tudo bem?',\n",
       " ' Tudo, tudo bem. Que ótimo. O Sr. William, sou do Departamento Voz do Cliente da Totos, estou entrando em contato para fazer o NPS, que é uma avaliação geral anual. O Sr. tem dois minutos?',\n",
       " ' Pode ser. Pode ser?',\n",
       " ' Tá bem. Só vou confirmar algumas informações. Empresa Colbec, Indústria e Comércio de Confecções, final do CNPJ 1000 contra 28, e o e-mail... Isso. Ok. Iniciando. De uma escala de 0 a 10, qual a probabilidade do Sr. recomendar a marca Totos a alguém hoje no geral?',\n",
       " ' 10. Suporte técnico ou uma nota para agilidade nos processos?',\n",
       " ' Também 10. 10. E o atendimento em si dos agentes?',\n",
       " ' Também. É muito bom. 10. Atendimento do Executivo de Vendas Comercial?',\n",
       " ' Esse eu tenho menos contato, então, não sei te dizer hoje, porque eu praticamente não uso. Mas quando eu precisei, sempre foi muito bom. Então, também pode colocar 10. Não é mais a mesma pessoa que me atende, mas o anterior era muito bom. Tá. O Sr. prefere dar nota 10 mesmo ou pular?',\n",
       " ' Pode ser sim. Não pode botar porque... Tá bom. Com relação aos custos e os valores?',\n",
       " ' Esse dói um pouco. Eu diria um 8. É bom, mas é pesado. Ok. Nota 8. Atendimento da Administrativa e Financeiro?',\n",
       " ' Esse eu prefiro pular porque eu nunca tive contato com essa parte. Certo. Mais três perguntas. O programa que vocês estão usando atende a necessidade da empresa total, parcial ou não atende?',\n",
       " ' Atende total. Total. Uma nota para as atualizações?',\n",
       " ' 10 também. 10?',\n",
       " ' Isso. E a última pergunta para avaliar a unidade TOTO Serra Gaúcha?',\n",
       " ' Também. Também nota 10. Muito bom. Certo. Gostaria de comentar, deixar alguma sugestão, reclamação, elogio?',\n",
       " ' Não. Tudo em ordem com vocês aí. Tudo certo. Então, tá bom. Então, continue assim. Obrigada, Sr. William, pela atenção. Ano que vem a gente retorna o contato de novo, tá?']"
      ]
     },
     "execution_count": 69,
     "metadata": {},
     "output_type": "execute_result"
    }
   ],
   "source": [
    "lista_interrogacao"
   ]
  },
  {
   "cell_type": "code",
   "execution_count": 70,
   "metadata": {},
   "outputs": [
    {
     "name": "stdout",
     "output_type": "stream",
     "text": [
      " Tá bem. Só vou confirmar algumas informações. Empresa Colbec, Indústria e Comércio de Confecções, final do CNPJ 1000 contra 28, e o e-mail... Isso. Ok. Iniciando. De uma escala de 0 a 10, qual a probabilidade do Sr. recomendar a marca Totos a alguém hoje no geral?\n"
     ]
    }
   ],
   "source": [
    "lista = ['possibilidade','recomendar']\n",
    "for i in lista_interrogacao:\n",
    "  for j in lista:\n",
    "    if j in i:\n",
    "      print(i)"
   ]
  },
  {
   "cell_type": "code",
   "execution_count": 71,
   "metadata": {},
   "outputs": [
    {
     "name": "stdout",
     "output_type": "stream",
     "text": [
      "A palavra 'recomendar' foi encontrada na posição 217\n"
     ]
    }
   ],
   "source": [
    "for i in lista_interrogacao:\n",
    "    for j in lista:\n",
    "        if j in i:\n",
    "            pos = i.find(j)\n",
    "            print(f\"A palavra '{j}' foi encontrada na posição {pos}\")"
   ]
  },
  {
   "cell_type": "code",
   "execution_count": 72,
   "metadata": {},
   "outputs": [
    {
     "name": "stdout",
     "output_type": "stream",
     "text": [
      "[(575, '0'), (579, '10'), (660, '10'), (729, '10'), (733, '10'), (793, '10'), (1007, '10'), (1109, '10'), (1243, '8'), (1276, '8'), (1566, '10'), (1577, '10'), (1669, '10')]\n",
      "\n",
      "\n",
      "A palavra 'recomendar' foi encontrada em: ' Tá bem. Só vou confirmar algumas informações. Empresa Colbec, Indústria e Comércio de Confecções, final do CNPJ 1000 contra 28, e o e-mail... Isso. Ok. Iniciando. De uma escala de 0 a 10, qual a probabilidade do Sr. recomendar a marca Totos a alguém hoje no geral?' na posição 217\n",
      "\n",
      "\n",
      "String como lista de palavras: ['Tá', 'bem.', 'Só', 'vou', 'confirmar', 'algumas', 'informações.', 'Empresa', 'Colbec,', 'Indústria', 'e', 'Comércio', 'de', 'Confecções,', 'final', 'do', 'CNPJ', '1000', 'contra', '28,', 'e', 'o', 'e-mail...', 'Isso.', 'Ok.', 'Iniciando.', 'De', 'uma', 'escala', 'de', '0', 'a', '10,', 'qual', 'a', 'probabilidade', 'do', 'Sr.', 'recomendar', 'a', 'marca', 'Totos', 'a', 'alguém', 'hoje', 'no', 'geral?']\n",
      "\n",
      "\n",
      "A palavra 'recomendar' está na posição 38 da lista de palavras\n"
     ]
    }
   ],
   "source": [
    "import re\n",
    "\n",
    "lista = ['possibilidade', 'recomendar']\n",
    "padrao = r'\\b(?:[0-9]|10)\\b'\n",
    "resultado = re.findall(padrao,df['Texto'][0])\n",
    "import re\n",
    "\n",
    "# Suponha que df['Texto'][0] seja a string que você deseja analisar\n",
    "texto = df['Texto'][0]\n",
    "\n",
    "# Use re.finditer() para encontrar as ocorrências e suas posições\n",
    "resultados = re.finditer(padrao, texto)\n",
    "\n",
    "# Prepare listas para armazenar as posições e os padrões encontrados\n",
    "posicoes = []\n",
    "padroes_encontrados = []\n",
    "\n",
    "for match in resultados:\n",
    "    posicoes.append(match.start())  # Posição inicial do padrão encontrado\n",
    "    padroes_encontrados.append(match.group())  # O padrão encontrado\n",
    "\n",
    "# Combine as posições e os padrões encontrados em uma lista de tuplas\n",
    "resultado_final = list(zip(posicoes, padroes_encontrados))\n",
    "\n",
    "print(resultado_final)\n",
    "print(\"\\n\")\n",
    "for i in lista_interrogacao:\n",
    "    \n",
    "    for j in lista:\n",
    "        if j in i:\n",
    "            pos = i.find(j)\n",
    "            # Transformar a string em uma lista de palavras\n",
    "            palavras = i.split()\n",
    "            # Encontrar a posição da palavra na lista\n",
    "            palavra_pos = palavras.index(j)\n",
    "            print(f\"A palavra '{j}' foi encontrada em: '{i}' na posição {pos}\")\n",
    "            print(\"\\n\")\n",
    "            print(f\"String como lista de palavras: {palavras}\")\n",
    "            print(\"\\n\")\n",
    "            print(f\"A palavra '{j}' está na posição {palavra_pos} da lista de palavras\")\n"
   ]
  },
  {
   "cell_type": "code",
   "execution_count": 73,
   "metadata": {},
   "outputs": [],
   "source": [
    "df_teste = list()\n",
    "for i in resultado_final:\n",
    "    df_teste.append({'PosicaoNota':i[0],'Digito':i[1]})"
   ]
  },
  {
   "cell_type": "code",
   "execution_count": 74,
   "metadata": {},
   "outputs": [],
   "source": [
    "df_teste2 = list()\n",
    "df_teste2.append({'PosicaoLista':pos,'PosicaoListaPalavras':palavra_pos,'PalavraChave':'recomendar'})"
   ]
  },
  {
   "cell_type": "code",
   "execution_count": 75,
   "metadata": {},
   "outputs": [
    {
     "data": {
      "text/html": [
       "<div>\n",
       "<style scoped>\n",
       "    .dataframe tbody tr th:only-of-type {\n",
       "        vertical-align: middle;\n",
       "    }\n",
       "\n",
       "    .dataframe tbody tr th {\n",
       "        vertical-align: top;\n",
       "    }\n",
       "\n",
       "    .dataframe thead th {\n",
       "        text-align: right;\n",
       "    }\n",
       "</style>\n",
       "<table border=\"1\" class=\"dataframe\">\n",
       "  <thead>\n",
       "    <tr style=\"text-align: right;\">\n",
       "      <th></th>\n",
       "      <th>PosicaoLista</th>\n",
       "      <th>PosicaoListaPalavras</th>\n",
       "      <th>PalavraChave</th>\n",
       "    </tr>\n",
       "  </thead>\n",
       "  <tbody>\n",
       "    <tr>\n",
       "      <th>0</th>\n",
       "      <td>217</td>\n",
       "      <td>38</td>\n",
       "      <td>recomendar</td>\n",
       "    </tr>\n",
       "  </tbody>\n",
       "</table>\n",
       "</div>"
      ],
      "text/plain": [
       "   PosicaoLista  PosicaoListaPalavras PalavraChave\n",
       "0           217                    38   recomendar"
      ]
     },
     "execution_count": 75,
     "metadata": {},
     "output_type": "execute_result"
    }
   ],
   "source": [
    "df_teste2 = pd.DataFrame(df_teste2)\n",
    "df_teste2"
   ]
  },
  {
   "cell_type": "code",
   "execution_count": 76,
   "metadata": {},
   "outputs": [
    {
     "data": {
      "text/html": [
       "<div>\n",
       "<style scoped>\n",
       "    .dataframe tbody tr th:only-of-type {\n",
       "        vertical-align: middle;\n",
       "    }\n",
       "\n",
       "    .dataframe tbody tr th {\n",
       "        vertical-align: top;\n",
       "    }\n",
       "\n",
       "    .dataframe thead th {\n",
       "        text-align: right;\n",
       "    }\n",
       "</style>\n",
       "<table border=\"1\" class=\"dataframe\">\n",
       "  <thead>\n",
       "    <tr style=\"text-align: right;\">\n",
       "      <th></th>\n",
       "      <th>PosicaoNota</th>\n",
       "      <th>Digito</th>\n",
       "    </tr>\n",
       "  </thead>\n",
       "  <tbody>\n",
       "    <tr>\n",
       "      <th>0</th>\n",
       "      <td>575</td>\n",
       "      <td>0</td>\n",
       "    </tr>\n",
       "    <tr>\n",
       "      <th>1</th>\n",
       "      <td>579</td>\n",
       "      <td>10</td>\n",
       "    </tr>\n",
       "    <tr>\n",
       "      <th>2</th>\n",
       "      <td>660</td>\n",
       "      <td>10</td>\n",
       "    </tr>\n",
       "    <tr>\n",
       "      <th>3</th>\n",
       "      <td>729</td>\n",
       "      <td>10</td>\n",
       "    </tr>\n",
       "    <tr>\n",
       "      <th>4</th>\n",
       "      <td>733</td>\n",
       "      <td>10</td>\n",
       "    </tr>\n",
       "    <tr>\n",
       "      <th>5</th>\n",
       "      <td>793</td>\n",
       "      <td>10</td>\n",
       "    </tr>\n",
       "    <tr>\n",
       "      <th>6</th>\n",
       "      <td>1007</td>\n",
       "      <td>10</td>\n",
       "    </tr>\n",
       "    <tr>\n",
       "      <th>7</th>\n",
       "      <td>1109</td>\n",
       "      <td>10</td>\n",
       "    </tr>\n",
       "    <tr>\n",
       "      <th>8</th>\n",
       "      <td>1243</td>\n",
       "      <td>8</td>\n",
       "    </tr>\n",
       "    <tr>\n",
       "      <th>9</th>\n",
       "      <td>1276</td>\n",
       "      <td>8</td>\n",
       "    </tr>\n",
       "    <tr>\n",
       "      <th>10</th>\n",
       "      <td>1566</td>\n",
       "      <td>10</td>\n",
       "    </tr>\n",
       "    <tr>\n",
       "      <th>11</th>\n",
       "      <td>1577</td>\n",
       "      <td>10</td>\n",
       "    </tr>\n",
       "    <tr>\n",
       "      <th>12</th>\n",
       "      <td>1669</td>\n",
       "      <td>10</td>\n",
       "    </tr>\n",
       "  </tbody>\n",
       "</table>\n",
       "</div>"
      ],
      "text/plain": [
       "    PosicaoNota Digito\n",
       "0           575      0\n",
       "1           579     10\n",
       "2           660     10\n",
       "3           729     10\n",
       "4           733     10\n",
       "5           793     10\n",
       "6          1007     10\n",
       "7          1109     10\n",
       "8          1243      8\n",
       "9          1276      8\n",
       "10         1566     10\n",
       "11         1577     10\n",
       "12         1669     10"
      ]
     },
     "execution_count": 76,
     "metadata": {},
     "output_type": "execute_result"
    }
   ],
   "source": [
    "df_teste = pd.DataFrame(df_teste)\n",
    "df_teste"
   ]
  },
  {
   "cell_type": "code",
   "execution_count": 77,
   "metadata": {},
   "outputs": [
    {
     "data": {
      "text/html": [
       "<div>\n",
       "<style scoped>\n",
       "    .dataframe tbody tr th:only-of-type {\n",
       "        vertical-align: middle;\n",
       "    }\n",
       "\n",
       "    .dataframe tbody tr th {\n",
       "        vertical-align: top;\n",
       "    }\n",
       "\n",
       "    .dataframe thead th {\n",
       "        text-align: right;\n",
       "    }\n",
       "</style>\n",
       "<table border=\"1\" class=\"dataframe\">\n",
       "  <thead>\n",
       "    <tr style=\"text-align: right;\">\n",
       "      <th></th>\n",
       "      <th>Agilidade nos Processos do Suporte Técnico</th>\n",
       "      <th>Atendimento dos Agentes do Suporte Técnico</th>\n",
       "      <th>Probabilidade de Recomendação</th>\n",
       "      <th>Atendimento do Executivo de Vendas</th>\n",
       "      <th>Custos e Valores dos Produtos Contratados</th>\n",
       "      <th>Atendimento do Financeiro</th>\n",
       "      <th>Satisfação com a Implantação do Software</th>\n",
       "      <th>Experiência com a Atualização do Software</th>\n",
       "      <th>Atendimento Realizado pela Unidade TOTVS</th>\n",
       "    </tr>\n",
       "  </thead>\n",
       "  <tbody>\n",
       "    <tr>\n",
       "      <th>Texto1</th>\n",
       "      <td>10</td>\n",
       "      <td>10</td>\n",
       "      <td>10</td>\n",
       "      <td>10</td>\n",
       "      <td>8</td>\n",
       "      <td>10</td>\n",
       "      <td>10</td>\n",
       "      <td>10</td>\n",
       "      <td>10</td>\n",
       "    </tr>\n",
       "    <tr>\n",
       "      <th>Texto2</th>\n",
       "      <td>0</td>\n",
       "      <td>0</td>\n",
       "      <td>0</td>\n",
       "      <td>0</td>\n",
       "      <td>0</td>\n",
       "      <td>0</td>\n",
       "      <td>0</td>\n",
       "      <td>0</td>\n",
       "      <td>0</td>\n",
       "    </tr>\n",
       "    <tr>\n",
       "      <th>Texto3</th>\n",
       "      <td>9</td>\n",
       "      <td>10</td>\n",
       "      <td>10</td>\n",
       "      <td>0</td>\n",
       "      <td>0</td>\n",
       "      <td>3</td>\n",
       "      <td>0</td>\n",
       "      <td>10</td>\n",
       "      <td>10</td>\n",
       "    </tr>\n",
       "  </tbody>\n",
       "</table>\n",
       "</div>"
      ],
      "text/plain": [
       "        Agilidade nos Processos do Suporte Técnico  \\\n",
       "Texto1                                          10   \n",
       "Texto2                                           0   \n",
       "Texto3                                           9   \n",
       "\n",
       "        Atendimento dos Agentes do Suporte Técnico  \\\n",
       "Texto1                                          10   \n",
       "Texto2                                           0   \n",
       "Texto3                                          10   \n",
       "\n",
       "        Probabilidade de Recomendação  Atendimento do Executivo de Vendas  \\\n",
       "Texto1                             10                                  10   \n",
       "Texto2                              0                                   0   \n",
       "Texto3                             10                                   0   \n",
       "\n",
       "        Custos e Valores dos Produtos Contratados  Atendimento do Financeiro  \\\n",
       "Texto1                                          8                         10   \n",
       "Texto2                                          0                          0   \n",
       "Texto3                                          0                          3   \n",
       "\n",
       "        Satisfação com a Implantação do Software  \\\n",
       "Texto1                                        10   \n",
       "Texto2                                         0   \n",
       "Texto3                                         0   \n",
       "\n",
       "        Experiência com a Atualização do Software  \\\n",
       "Texto1                                         10   \n",
       "Texto2                                          0   \n",
       "Texto3                                         10   \n",
       "\n",
       "        Atendimento Realizado pela Unidade TOTVS  \n",
       "Texto1                                        10  \n",
       "Texto2                                         0  \n",
       "Texto3                                        10  "
      ]
     },
     "execution_count": 77,
     "metadata": {},
     "output_type": "execute_result"
    }
   ],
   "source": [
    "import pandas as pd\n",
    "import re\n",
    "\n",
    "# Define os padrões para as perguntas e suas notas com ajustes adicionais\n",
    "padroes = {\n",
    "    'Agilidade nos Processos do Suporte Técnico': re.compile(r'\\bSuporte técnico.*?agilidade nos processos.*?(\\d{1,2})\\b', re.IGNORECASE),\n",
    "    'Atendimento dos Agentes do Suporte Técnico': re.compile(r'\\batendimento.*?dos agentes.*?(\\d{1,2})\\b', re.IGNORECASE),\n",
    "    'Probabilidade de Recomendação': re.compile(r'\\bqual a probabilidade.*?(\\d{1,2})\\b', re.IGNORECASE),\n",
    "    'Atendimento do Executivo de Vendas': re.compile(r'\\bAtendimento.*?Executivo de Vendas.*?(\\d{1,2})\\b', re.IGNORECASE),\n",
    "    'Custos e Valores dos Produtos Contratados': re.compile(r'\\bCom relação aos custos.*?(\\d{1,2})\\b', re.IGNORECASE),\n",
    "    'Atendimento do Financeiro': re.compile(r'\\bAtendimento.*?Financeiro.*?(\\d{1,2})\\b', re.IGNORECASE),\n",
    "    'Satisfação com a Implantação do Software': re.compile(r'\\bO programa.*?atende.*?(\\d{1,2})\\b', re.IGNORECASE),\n",
    "    'Experiência com a Atualização do Software': re.compile(r'\\bUma nota.*?atualizações.*?(\\d{1,2})\\b', re.IGNORECASE),\n",
    "    'Atendimento Realizado pela Unidade TOTVS': re.compile(r'\\bavaliar a Unidade.*?(\\d{1,2})\\b', re.IGNORECASE)\n",
    "}\n",
    "\n",
    "# Função para extrair notas com padrão e preencher com zero se não houver nota\n",
    "def extrair_notas(texto, padroes):\n",
    "    notas = {}\n",
    "    for pergunta, padrao in padroes.items():\n",
    "        resultado = padrao.search(texto)\n",
    "        if resultado:\n",
    "            notas[pergunta] = int(resultado.group(1))\n",
    "        else:\n",
    "            notas[pergunta] = 0\n",
    "    return notas\n",
    "\n",
    "# Supondo que df já esteja definido, contendo o texto a ser processado\n",
    "# Inicializar uma lista para armazenar todas as notas\n",
    "todas_notas = []\n",
    "\n",
    "# Extrair notas para cada texto e adicionar à lista\n",
    "for i in range(len(df)):\n",
    "    notas = extrair_notas(df['Texto'][i], padroes)\n",
    "    todas_notas.append(notas)\n",
    "\n",
    "# Criar o DataFrame com as notas\n",
    "df_notas = pd.DataFrame(todas_notas,index=['Texto1', 'Texto2', 'Texto3'])\n",
    "\n",
    "# Exibir o DataFrame com as notas\n",
    "df_notas\n"
   ]
  },
  {
   "cell_type": "code",
   "execution_count": 78,
   "metadata": {},
   "outputs": [],
   "source": [
    "t = {\"Programa atende às necessidades da empresa\": [\"Total\",\"Total\",\"Total\"],\"Nota para as atualizações\": [10,5,8],}"
   ]
  },
  {
   "cell_type": "code",
   "execution_count": 79,
   "metadata": {},
   "outputs": [],
   "source": [
    "\n",
    "gabarito = pd.DataFrame({\n",
    "    \"Agilidade nos processos de suporte técnico\": [10, 6, 9],\n",
    "    \"Atendimento dos Agentes do Suporte Técnico\": [10, 0, 0],\n",
    "    \"Probabilidade de recomendar a marca Tótoz\": [10, 9, 10],\n",
    "    \"Atendimento do Executivo de Vendas Comercial\": [10, 7, 8],\n",
    "    \"Custos e valores\": [8, 5, 7],\n",
    "    \"Atendimento Administrativo e Financeiro\": [0, 0, 0],\n",
    "    \"Satisfação com a Implantação do Software\": [0, 0, 0],\n",
    "    \"Experiência com a Atualização do Software\": [10, 5, 8],\n",
    "    \"Atendimento Realizado pela Unidade TOTVS\": [10, 0, 9]\n",
    "}, index=['Texto1', 'Texto2', 'Texto3'])\n",
    "\n"
   ]
  },
  {
   "cell_type": "code",
   "execution_count": 80,
   "metadata": {},
   "outputs": [
    {
     "data": {
      "text/plain": [
       "'Agilidade nos processos de suporte técnico'"
      ]
     },
     "execution_count": 80,
     "metadata": {},
     "output_type": "execute_result"
    }
   ],
   "source": [
    "gabarito.columns[0]"
   ]
  },
  {
   "cell_type": "code",
   "execution_count": 81,
   "metadata": {},
   "outputs": [],
   "source": [
    "colunas_map = {\n",
    "    'Probabilidade de recomendar a marca Tótoz': 'Probabilidade de Recomendação',\n",
    "    'Agilidade nos processos de suporte técnico': 'Agilidade nos Processos do Suporte Técnico',\n",
    "    'Atendimento dos agentes': 'Atendimento dos Agentes do Suporte Técnico',\n",
    "    'Atendimento do Executivo de Vendas Comercial': 'Atendimento do Executivo de Vendas',\n",
    "    'Custos e valores': 'Custos e Valores dos Produtos Contratados',\n",
    "    'Atendimento Administrativo e Financeiro': 'Atendimento do Financeiro',\n",
    "    'Programa atende às necessidades da empresa': 'Satisfação com a Implantação do Software',\n",
    "    'Nota para as atualizações': 'Experiência com a Atualização do Software',\n",
    "    'Unidade CRHG': 'Atendimento Realizado pela Unidade TOTVS',\n",
    "    'Satisfação com a Implantação do Software': 'Satisfação com a Implantação do Software',\n",
    "    'Experiência com a Atualização do Software': 'Experiência com a Atualização do Software',\n",
    "    'Atendimento Realizado pela Unidade TOTVS': 'Atendimento Realizado pela Unidade TOTVS'\n",
    "}\n"
   ]
  },
  {
   "cell_type": "code",
   "execution_count": 82,
   "metadata": {},
   "outputs": [],
   "source": [
    "def acuracia(gabarito, df_notas):\n",
    "    indice = 0\n",
    "    acertos_linha=0\n",
    "    acuracia_linha = list()\n",
    "    soma = 0\n",
    "    for linha in df_notas.index:\n",
    "        \n",
    "        for coluna in df_notas.columns:\n",
    "            coluna_gab = gabarito.columns[indice]\n",
    "            if df_notas.loc[(linha,coluna)] == gabarito.loc[(linha,coluna_gab)]:\n",
    "                acertos_linha+=1\n",
    "            indice+=1\n",
    "        indice=0\n",
    "        acuracia = acertos_linha / 9\n",
    "        soma+=acuracia\n",
    "        acuracia_linha.append((linha, f\"{acuracia:.2f}\"))\n",
    "        acertos_linha=0\n",
    "    acuraria_total = f\"{soma / 3:.2f}\"\n",
    "    return acuracia_linha,acuraria_total"
   ]
  },
  {
   "cell_type": "code",
   "execution_count": 83,
   "metadata": {},
   "outputs": [
    {
     "name": "stdout",
     "output_type": "stream",
     "text": [
      "Acurácia por linha: [('Texto1', '0.78'), ('Texto2', '0.44'), ('Texto3', '0.33')]\n",
      "Acurácia total: 0.52\n"
     ]
    }
   ],
   "source": [
    "acuracia_linha, acuracia_total = acuracia(gabarito, df_notas)\n",
    "print(\"Acurácia por linha:\", acuracia_linha)\n",
    "print(\"Acurácia total:\", acuracia_total)"
   ]
  },
  {
   "cell_type": "code",
   "execution_count": null,
   "metadata": {},
   "outputs": [],
   "source": []
  }
 ],
 "metadata": {
  "kernelspec": {
   "display_name": ".venv",
   "language": "python",
   "name": "python3"
  },
  "language_info": {
   "codemirror_mode": {
    "name": "ipython",
    "version": 3
   },
   "file_extension": ".py",
   "mimetype": "text/x-python",
   "name": "python",
   "nbconvert_exporter": "python",
   "pygments_lexer": "ipython3",
   "version": "3.9.13"
  }
 },
 "nbformat": 4,
 "nbformat_minor": 2
}
